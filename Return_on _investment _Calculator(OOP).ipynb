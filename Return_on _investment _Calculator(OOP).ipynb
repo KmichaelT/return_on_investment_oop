{
 "cells": [
  {
   "cell_type": "code",
   "execution_count": 14,
   "id": "77c25854",
   "metadata": {},
   "outputs": [
    {
     "name": "stdout",
     "output_type": "stream",
     "text": [
      "\n",
      "\n",
      "ENTER INCOME\n",
      "_____________\n",
      "\n",
      "do you want enter an income? y/ny\n",
      "inter a monthly income $1800\n",
      "do you want enter an income? y/ny\n",
      "inter a monthly income $2000\n",
      "do you want enter an income? y/nn\n",
      "\n",
      "\n",
      "ENTER EXPENSES\n",
      "_____________\n",
      "\n",
      "do you want enter an expense? y/ny\n",
      "inter a monthly expense $50\n",
      "50\n",
      "do you want enter an expense? y/ny\n",
      "inter a monthly expense $63\n",
      "113\n",
      "do you want enter an expense? y/ny\n",
      "inter a monthly expense $200\n",
      "313\n",
      "do you want enter an expense? y/ny\n",
      "inter a monthly expense $600\n",
      "913\n",
      "do you want enter an expense? y/nn\n",
      "\n",
      "\n",
      "ENTER INVESTMENTS\n",
      "_____________\n",
      "\n",
      "enter down payment= $955\n",
      "enter closing fee= $60\n",
      "enter total rehab cost= $35\n",
      "other cost= $86\n",
      "1136\n",
      "\n",
      "\n",
      "ROI\n",
      "_____________\n",
      "\n",
      " your total income is $3800\n",
      " your total expense is $913\n",
      " your total investment is $1136\n",
      " your total return on investment is $3049.6478873239435%\n"
     ]
    }
   ],
   "source": [
    "class Roi:\n",
    "    def __init__(self,income=0,expense=0,investment=0):\n",
    "        self.income=income\n",
    "        self.expense=expense\n",
    "        self.investment=investment\n",
    "    def add_income(self):\n",
    "        print('\\n\\nENTER INCOME\\n_____________\\n')\n",
    "        while True:\n",
    "            choice=(input(\"do you want enter an income? y/n\" )).lower()\n",
    "            if choice=='n':\n",
    "                break\n",
    "            elif choice=='y':\n",
    "                self.income+=(int(input('inter a monthly income $')))\n",
    "                \n",
    "    def add_expense(self):\n",
    "        print('\\n\\nENTER EXPENSES\\n_____________\\n')\n",
    "        while True:\n",
    "            choice=(input(\"do you want enter an expense? y/n\" )).lower()\n",
    "            if choice=='n':\n",
    "                break\n",
    "            elif choice=='y':\n",
    "                self.expense+=(int(input('inter a monthly expense $')))\n",
    "                print(self.expense)\n",
    "        \n",
    "    def add_investment(self):\n",
    "        print('\\n\\nENTER INVESTMENTS\\n_____________\\n')\n",
    "        down=int(input(\"enter down payment= $\"))\n",
    "        closing=int(input(\"enter closing fee= $\"))\n",
    "        rehab=int(input(\"enter total rehab cost= $\"))\n",
    "        misc=int(input(\"other cost= $\"))\n",
    "        self.investment=down+closing+rehab+misc\n",
    "        print(self.investment)\n",
    "    def rental_rio(self):\n",
    "        print('\\n\\nROI\\n_____________\\n')\n",
    "        print(f' your total income is ${self.income}')\n",
    "        print(f' your total expense is ${self.expense}')\n",
    "        print(f' your total investment is ${self.investment}')\n",
    "        rio=(((self.income-self.expense)*12)/self.investment)*100\n",
    "        print(f' your total return on investment is ${rio.2f}%')\n",
    "              \n",
    "calculate=Roi()\n",
    "calculate.add_income()\n",
    "calculate.add_expense()\n",
    "calculate.add_investment()\n",
    "calculate.rental_rio()\n"
   ]
  },
  {
   "cell_type": "code",
   "execution_count": 12,
   "id": "adefa5d2",
   "metadata": {},
   "outputs": [
    {
     "ename": "SyntaxError",
     "evalue": "invalid syntax (767283035.py, line 1)",
     "output_type": "error",
     "traceback": [
      "\u001b[0;36m  File \u001b[0;32m\"/var/folders/cc/72nmvgt97kq8ygq8zpsvtrxr0000gn/T/ipykernel_4239/767283035.py\"\u001b[0;36m, line \u001b[0;32m1\u001b[0m\n\u001b[0;31m    def roi()\u001b[0m\n\u001b[0m             ^\u001b[0m\n\u001b[0;31mSyntaxError\u001b[0m\u001b[0;31m:\u001b[0m invalid syntax\n"
     ]
    }
   ],
   "source": []
  },
  {
   "cell_type": "code",
   "execution_count": null,
   "id": "d03b6ce3",
   "metadata": {},
   "outputs": [],
   "source": []
  },
  {
   "cell_type": "code",
   "execution_count": null,
   "id": "1f5db4eb",
   "metadata": {},
   "outputs": [],
   "source": []
  }
 ],
 "metadata": {
  "kernelspec": {
   "display_name": "Python 3 (ipykernel)",
   "language": "python",
   "name": "python3"
  },
  "language_info": {
   "codemirror_mode": {
    "name": "ipython",
    "version": 3
   },
   "file_extension": ".py",
   "mimetype": "text/x-python",
   "name": "python",
   "nbconvert_exporter": "python",
   "pygments_lexer": "ipython3",
   "version": "3.9.7"
  }
 },
 "nbformat": 4,
 "nbformat_minor": 5
}
